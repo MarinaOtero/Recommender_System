{
 "cells": [
  {
   "cell_type": "markdown",
   "id": "joint-branch",
   "metadata": {},
   "source": [
    "# Functions EDA"
   ]
  },
  {
   "cell_type": "markdown",
   "id": "invisible-swimming",
   "metadata": {},
   "source": [
    "# Import libraries and data"
   ]
  },
  {
   "cell_type": "code",
   "execution_count": null,
   "id": "wireless-american",
   "metadata": {},
   "outputs": [],
   "source": [
    "#import libraries\n",
    "import pandas as pd\n",
    "import numpy as np\n",
    "import plotly\n",
    "\n",
    "import warnings\n",
    "warnings.filterwarnings('ignore')"
   ]
  },
  {
   "cell_type": "code",
   "execution_count": null,
   "id": "recent-orbit",
   "metadata": {},
   "outputs": [],
   "source": [
    "import os\n",
    "getcwd = os.getcwd()\n",
    "cwd = getcwd.rsplit('\\\\', 1)[0]+\"\\\\_functions_\""
   ]
  },
  {
   "cell_type": "code",
   "execution_count": null,
   "id": "typical-professional",
   "metadata": {},
   "outputs": [],
   "source": [
    "import sys\n",
    "sys.path.insert(0, cwd)\n",
    "\n",
    "from functions_eda import *"
   ]
  },
  {
   "cell_type": "code",
   "execution_count": null,
   "id": "amateur-president",
   "metadata": {},
   "outputs": [],
   "source": [
    "df_grande = pd.read_csv('../clean_data/data_descriptions.csv')"
   ]
  },
  {
   "cell_type": "code",
   "execution_count": null,
   "id": "brave-russia",
   "metadata": {},
   "outputs": [],
   "source": [
    "df_grande.head()"
   ]
  },
  {
   "cell_type": "code",
   "execution_count": null,
   "id": "disabled-retreat",
   "metadata": {},
   "outputs": [],
   "source": [
    "df_grande.tconst.nunique()"
   ]
  },
  {
   "cell_type": "code",
   "execution_count": null,
   "id": "polyphonic-research",
   "metadata": {},
   "outputs": [],
   "source": [
    "df_grande.info()"
   ]
  },
  {
   "cell_type": "markdown",
   "id": "unnecessary-assumption",
   "metadata": {},
   "source": [
    "# Number of male directors vs number of female directors"
   ]
  },
  {
   "cell_type": "code",
   "execution_count": null,
   "id": "agricultural-statement",
   "metadata": {},
   "outputs": [],
   "source": [
    "fig = bar_num_directors(df_grande)"
   ]
  },
  {
   "cell_type": "code",
   "execution_count": null,
   "id": "accepting-dakota",
   "metadata": {},
   "outputs": [],
   "source": [
    "fig.show()"
   ]
  },
  {
   "cell_type": "markdown",
   "id": "direct-burke",
   "metadata": {},
   "source": [
    "# Number of movies by males directors vs number of movies by female directors"
   ]
  },
  {
   "cell_type": "code",
   "execution_count": null,
   "id": "contrary-retro",
   "metadata": {},
   "outputs": [],
   "source": [
    "fig = bar_num_movies(df_grande)"
   ]
  },
  {
   "cell_type": "code",
   "execution_count": null,
   "id": "matched-movie",
   "metadata": {},
   "outputs": [],
   "source": [
    "fig.show()"
   ]
  },
  {
   "cell_type": "code",
   "execution_count": null,
   "id": "collaborative-revision",
   "metadata": {},
   "outputs": [],
   "source": [
    "#plotly.offline.plot(fig, filename='../images/movie_dic')"
   ]
  },
  {
   "cell_type": "markdown",
   "id": "soviet-desperate",
   "metadata": {},
   "source": [
    "# Distribution of Ratings"
   ]
  },
  {
   "cell_type": "code",
   "execution_count": null,
   "id": "favorite-landscape",
   "metadata": {
    "scrolled": false
   },
   "outputs": [],
   "source": [
    "fig = dist_ratings(df_grande)"
   ]
  },
  {
   "cell_type": "code",
   "execution_count": null,
   "id": "prerequisite-hayes",
   "metadata": {},
   "outputs": [],
   "source": [
    "fig.show()"
   ]
  },
  {
   "cell_type": "markdown",
   "id": "endless-convention",
   "metadata": {},
   "source": [
    "# Distribution of number of votes"
   ]
  },
  {
   "cell_type": "code",
   "execution_count": null,
   "id": "weekly-married",
   "metadata": {
    "scrolled": false
   },
   "outputs": [],
   "source": [
    "fig = dist_num_votes(df_grande)"
   ]
  },
  {
   "cell_type": "code",
   "execution_count": null,
   "id": "alleged-shield",
   "metadata": {},
   "outputs": [],
   "source": [
    "fig.show()"
   ]
  },
  {
   "cell_type": "markdown",
   "id": "angry-testament",
   "metadata": {},
   "source": [
    "# Bayesian Ratio for best movies"
   ]
  },
  {
   "cell_type": "markdown",
   "id": "parallel-evanescence",
   "metadata": {},
   "source": [
    "#### Bayesian Average\n",
    "\n",
    "Bayesian Average is defined as:\n",
    "\n",
    "$S = wR + (1-w)C$\n",
    "\n",
    "$w = \\frac{v}{v+m}$\n",
    "\n",
    "where $R$ represents the average of users ratings for the movie, $C$ represents the average of users ratings for all movies, $v$ is the total number of reviews for the movie and $m$ is the average of number reviews for all movies."
   ]
  },
  {
   "cell_type": "code",
   "execution_count": null,
   "id": "outstanding-implementation",
   "metadata": {},
   "outputs": [],
   "source": [
    "df_bayesian = bayesian_avg_rating(df_grande,'female')"
   ]
  },
  {
   "cell_type": "code",
   "execution_count": null,
   "id": "arranged-panel",
   "metadata": {},
   "outputs": [],
   "source": [
    "df_bayesian.info()"
   ]
  },
  {
   "cell_type": "code",
   "execution_count": null,
   "id": "compatible-richardson",
   "metadata": {},
   "outputs": [],
   "source": [
    "df_bayesian.isnull().sum()"
   ]
  },
  {
   "cell_type": "code",
   "execution_count": null,
   "id": "czech-weekend",
   "metadata": {},
   "outputs": [],
   "source": [
    "df_bayesian.dropna(inplace=True)"
   ]
  },
  {
   "cell_type": "code",
   "execution_count": null,
   "id": "fatal-treasury",
   "metadata": {},
   "outputs": [],
   "source": [
    "df_bayesian.duplicated().sum()"
   ]
  },
  {
   "cell_type": "code",
   "execution_count": null,
   "id": "formed-tennis",
   "metadata": {},
   "outputs": [],
   "source": [
    "df_bayesian.drop_duplicates()"
   ]
  },
  {
   "cell_type": "code",
   "execution_count": null,
   "id": "casual-motor",
   "metadata": {},
   "outputs": [],
   "source": [
    "#df_bayesian.sort_values(by='bayesian_aver', ascending=False)\n",
    "#df_bayesian.to_csv('../clean_data/data_with_bayesian_female.csv')"
   ]
  },
  {
   "cell_type": "markdown",
   "id": "charitable-memory",
   "metadata": {},
   "source": [
    "# Principales generos de pelicula por genero de director"
   ]
  },
  {
   "cell_type": "code",
   "execution_count": null,
   "id": "spiritual-philosophy",
   "metadata": {},
   "outputs": [],
   "source": [
    "fig = principal_genres(df_grande)"
   ]
  },
  {
   "cell_type": "code",
   "execution_count": null,
   "id": "global-logan",
   "metadata": {},
   "outputs": [],
   "source": [
    "fig.show()"
   ]
  },
  {
   "cell_type": "code",
   "execution_count": null,
   "id": "sticky-character",
   "metadata": {},
   "outputs": [],
   "source": [
    "#plotly.offline.plot(fig, filename='../images/genre_dist')"
   ]
  },
  {
   "cell_type": "markdown",
   "id": "relevant-quest",
   "metadata": {},
   "source": [
    "# First movie directed by woman or man"
   ]
  },
  {
   "cell_type": "code",
   "execution_count": null,
   "id": "complex-seeking",
   "metadata": {},
   "outputs": [],
   "source": [
    "first_movie(df_grande,'M')"
   ]
  },
  {
   "cell_type": "code",
   "execution_count": null,
   "id": "breeding-electricity",
   "metadata": {},
   "outputs": [],
   "source": [
    "first_movie(df_grande,'F')"
   ]
  },
  {
   "cell_type": "markdown",
   "id": "metallic-therapist",
   "metadata": {},
   "source": [
    "# Distribucion por años"
   ]
  },
  {
   "cell_type": "code",
   "execution_count": null,
   "id": "happy-bible",
   "metadata": {},
   "outputs": [],
   "source": [
    "fig = num_movies_year(df_grande)"
   ]
  },
  {
   "cell_type": "code",
   "execution_count": null,
   "id": "awful-worse",
   "metadata": {},
   "outputs": [],
   "source": [
    "fig.show()"
   ]
  },
  {
   "cell_type": "code",
   "execution_count": null,
   "id": "double-hands",
   "metadata": {},
   "outputs": [],
   "source": [
    "#fig.write_image(\"'../images/year_dist.jpeg\")"
   ]
  },
  {
   "cell_type": "code",
   "execution_count": null,
   "id": "treated-taylor",
   "metadata": {},
   "outputs": [],
   "source": [
    "# 2 y axis\n",
    "num_movies_year2(df_grande)"
   ]
  },
  {
   "cell_type": "markdown",
   "id": "charitable-iceland",
   "metadata": {},
   "source": [
    "# Wordcloud de principales palabras en descripciones"
   ]
  },
  {
   "cell_type": "code",
   "execution_count": null,
   "id": "legal-latino",
   "metadata": {},
   "outputs": [],
   "source": [
    "wc1 = word_cloud_male(df_grande, 'descriptions')\n",
    "#wc2 = word_cloud_female(df_grande, 'descriptions')"
   ]
  },
  {
   "cell_type": "code",
   "execution_count": null,
   "id": "danish-madonna",
   "metadata": {},
   "outputs": [],
   "source": [
    "# Display the generated image:\n",
    "plt.imshow(wc1, interpolation='bilinear')\n",
    "plt.axis(\"off\")\n",
    "plt.show()"
   ]
  },
  {
   "cell_type": "code",
   "execution_count": null,
   "id": "short-creature",
   "metadata": {},
   "outputs": [],
   "source": []
  }
 ],
 "metadata": {
  "kernelspec": {
   "display_name": "Python 3",
   "language": "python",
   "name": "python3"
  },
  "language_info": {
   "codemirror_mode": {
    "name": "ipython",
    "version": 3
   },
   "file_extension": ".py",
   "mimetype": "text/x-python",
   "name": "python",
   "nbconvert_exporter": "python",
   "pygments_lexer": "ipython3",
   "version": "3.7.9"
  },
  "toc": {
   "base_numbering": 1,
   "nav_menu": {},
   "number_sections": true,
   "sideBar": true,
   "skip_h1_title": false,
   "title_cell": "Table of Contents",
   "title_sidebar": "Contents",
   "toc_cell": false,
   "toc_position": {},
   "toc_section_display": true,
   "toc_window_display": false
  }
 },
 "nbformat": 4,
 "nbformat_minor": 5
}
