{
 "cells": [
  {
   "cell_type": "markdown",
   "id": "healthy-fraud",
   "metadata": {},
   "source": [
    "# Import libraries"
   ]
  },
  {
   "cell_type": "code",
   "execution_count": 1,
   "id": "sufficient-sustainability",
   "metadata": {},
   "outputs": [],
   "source": [
    "import pandas as pd\n",
    "import numpy as np"
   ]
  },
  {
   "cell_type": "code",
   "execution_count": null,
   "id": "certain-controversy",
   "metadata": {},
   "outputs": [],
   "source": [
    "import os\n",
    "getcwd = os.getcwd()\n",
    "cwd = getcwd.rsplit('\\\\', 1)[0]+\"\\\\_functions_\""
   ]
  },
  {
   "cell_type": "code",
   "execution_count": null,
   "id": "exposed-envelope",
   "metadata": {},
   "outputs": [],
   "source": [
    "import sys\n",
    "sys.path.insert(0, cwd)\n",
    "\n",
    "from dash_app import *"
   ]
  },
  {
   "cell_type": "markdown",
   "id": "republican-airport",
   "metadata": {},
   "source": [
    "# Different recomendations"
   ]
  },
  {
   "cell_type": "code",
   "execution_count": null,
   "id": "ready-wallpaper",
   "metadata": {},
   "outputs": [],
   "source": [
    "dash_app('external')"
   ]
  },
  {
   "cell_type": "code",
   "execution_count": null,
   "id": "retired-movie",
   "metadata": {},
   "outputs": [],
   "source": []
  }
 ],
 "metadata": {
  "kernelspec": {
   "display_name": "Python 3",
   "language": "python",
   "name": "python3"
  },
  "language_info": {
   "codemirror_mode": {
    "name": "ipython",
    "version": 3
   },
   "file_extension": ".py",
   "mimetype": "text/x-python",
   "name": "python",
   "nbconvert_exporter": "python",
   "pygments_lexer": "ipython3",
   "version": "3.7.9"
  },
  "toc": {
   "base_numbering": 1,
   "nav_menu": {},
   "number_sections": true,
   "sideBar": true,
   "skip_h1_title": false,
   "title_cell": "Table of Contents",
   "title_sidebar": "Contents",
   "toc_cell": false,
   "toc_position": {},
   "toc_section_display": true,
   "toc_window_display": false
  }
 },
 "nbformat": 4,
 "nbformat_minor": 5
}
