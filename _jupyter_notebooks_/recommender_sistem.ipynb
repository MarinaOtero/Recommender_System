{
 "cells": [
  {
   "cell_type": "markdown",
   "id": "cooperative-pregnancy",
   "metadata": {},
   "source": [
    "# Ratings"
   ]
  },
  {
   "cell_type": "code",
   "execution_count": null,
   "id": "iraqi-manchester",
   "metadata": {},
   "outputs": [],
   "source": [
    "import pandas as pd\n",
    "import numpy as np\n",
    "import pickle\n",
    "import scipy.sparse"
   ]
  },
  {
   "cell_type": "code",
   "execution_count": null,
   "id": "parliamentary-container",
   "metadata": {},
   "outputs": [],
   "source": [
    "ratings = pd.read_csv('../clean_data/ratings_gender.csv') # Los usuarios con menos de 15 reseñas han sido eliminados"
   ]
  },
  {
   "cell_type": "code",
   "execution_count": null,
   "id": "wrapped-rapid",
   "metadata": {},
   "outputs": [],
   "source": [
    "ratings.head()"
   ]
  },
  {
   "cell_type": "code",
   "execution_count": null,
   "id": "driving-transportation",
   "metadata": {},
   "outputs": [],
   "source": [
    "ratings.info()"
   ]
  },
  {
   "cell_type": "code",
   "execution_count": null,
   "id": "fiscal-contrast",
   "metadata": {},
   "outputs": [],
   "source": [
    "ratings.duplicated().sum()"
   ]
  },
  {
   "cell_type": "code",
   "execution_count": null,
   "id": "abandoned-multimedia",
   "metadata": {},
   "outputs": [],
   "source": [
    "#ratings.drop_duplicates(inplace=True)"
   ]
  },
  {
   "cell_type": "code",
   "execution_count": null,
   "id": "conceptual-court",
   "metadata": {},
   "outputs": [],
   "source": [
    "ratings.isnull().sum()"
   ]
  },
  {
   "cell_type": "code",
   "execution_count": null,
   "id": "automatic-property",
   "metadata": {},
   "outputs": [],
   "source": [
    "# From string to tuple\n",
    "ratings['tconst_gender'] = ratings['tconst_gender'].apply(lambda x: eval(x))"
   ]
  },
  {
   "cell_type": "code",
   "execution_count": null,
   "id": "raising-security",
   "metadata": {},
   "outputs": [],
   "source": [
    "ratings[ratings.primaryTitle=='Booksmart']"
   ]
  },
  {
   "cell_type": "code",
   "execution_count": null,
   "id": "cloudy-speech",
   "metadata": {},
   "outputs": [],
   "source": [
    "ratings.userID.nunique()"
   ]
  },
  {
   "cell_type": "code",
   "execution_count": null,
   "id": "ultimate-proof",
   "metadata": {},
   "outputs": [],
   "source": [
    "ratings.tconst.nunique()"
   ]
  },
  {
   "cell_type": "code",
   "execution_count": null,
   "id": "prepared-recording",
   "metadata": {},
   "outputs": [],
   "source": [
    "ratings_unique_primaryName = ratings.groupby(['primaryName','gender'])['userID'].count().reset_index().rename(columns={'userID':'count'})\n",
    "ratings_unique_primaryName.gender.value_counts()"
   ]
  },
  {
   "cell_type": "code",
   "execution_count": null,
   "id": "likely-tribe",
   "metadata": {},
   "outputs": [],
   "source": [
    "ratings_unique_tconst = ratings.groupby(['tconst','gender'])['userID'].count().reset_index().rename(columns={'userID':'count'})\n",
    "ratings_unique_tconst.gender.value_counts()"
   ]
  },
  {
   "cell_type": "code",
   "execution_count": null,
   "id": "higher-continuity",
   "metadata": {},
   "outputs": [],
   "source": [
    "ratings.gender.value_counts()"
   ]
  },
  {
   "cell_type": "code",
   "execution_count": null,
   "id": "smooth-judges",
   "metadata": {},
   "outputs": [],
   "source": [
    "ratings['tconst'].nunique()"
   ]
  },
  {
   "cell_type": "code",
   "execution_count": null,
   "id": "hydraulic-consequence",
   "metadata": {},
   "outputs": [],
   "source": [
    "ratings.head()"
   ]
  },
  {
   "cell_type": "markdown",
   "id": "composite-webmaster",
   "metadata": {},
   "source": [
    "# Sparse matrix"
   ]
  },
  {
   "cell_type": "code",
   "execution_count": null,
   "id": "critical-distributor",
   "metadata": {},
   "outputs": [],
   "source": [
    "from scipy.sparse import csr_matrix\n",
    "\n",
    "def create_X(df):\n",
    "    \"\"\"\n",
    "    Generates a sparse matrix from ratings dataframe.\n",
    "    \n",
    "    Args:\n",
    "        df: pandas dataframe\n",
    "    \n",
    "    Returns:\n",
    "        X: sparse matrix\n",
    "        user_mapper: dict that maps user id's to user indices\n",
    "        user_inv_mapper: dict that maps user indices to user id's\n",
    "        movie_mapper: dict that maps movie id's to movie indices\n",
    "        movie_inv_mapper: dict that maps movie indices to movie id's\n",
    "    \"\"\"\n",
    "    N = df['userID'].nunique()\n",
    "    M = df['tconst_gender'].nunique()\n",
    "    \n",
    "\n",
    "    user_mapper = dict(zip(np.unique(df[\"userID\"]), list(range(N))))\n",
    "    movie_mapper = dict(zip(np.unique(df[\"tconst_gender\"]), list(range(M))))\n",
    "    \n",
    "    user_inv_mapper = dict(zip(list(range(N)), np.unique(df[\"userID\"])))\n",
    "    movie_inv_mapper = dict(zip(list(range(M)), np.unique(df[\"tconst_gender\"])))\n",
    "    \n",
    "    user_index = [user_mapper[i] for i in df['userID']]\n",
    "    movie_index = [movie_mapper[i] for i in df['tconst_gender']]\n",
    "\n",
    "    X = csr_matrix((df[\"rating\"], (movie_index, user_index)), shape=(M, N))\n",
    "    \n",
    "    return X, user_mapper, movie_mapper, user_inv_mapper, movie_inv_mapper"
   ]
  },
  {
   "cell_type": "code",
   "execution_count": null,
   "id": "certain-madrid",
   "metadata": {},
   "outputs": [],
   "source": [
    "X, user_mapper, movie_mapper, user_inv_mapper, movie_inv_mapper = create_X(ratings)"
   ]
  },
  {
   "cell_type": "code",
   "execution_count": null,
   "id": "revised-equality",
   "metadata": {},
   "outputs": [],
   "source": [
    "# save X matrix to disk\n",
    "#scipy.sparse.save_npz('../clean_data/sparse_matrix.npz', X)\n",
    "\n",
    "# read X from disk\n",
    "#X = scipy.sparse.load_npz('../clean_data/sparse_matrix.npz')"
   ]
  },
  {
   "cell_type": "code",
   "execution_count": null,
   "id": "written-newsletter",
   "metadata": {},
   "outputs": [],
   "source": [
    "X.shape"
   ]
  },
  {
   "cell_type": "code",
   "execution_count": null,
   "id": "grateful-sierra",
   "metadata": {},
   "outputs": [],
   "source": [
    "X.shape[0]*X.shape[1]"
   ]
  },
  {
   "cell_type": "code",
   "execution_count": null,
   "id": "killing-mississippi",
   "metadata": {},
   "outputs": [],
   "source": [
    "X.count_nonzero()"
   ]
  },
  {
   "cell_type": "code",
   "execution_count": null,
   "id": "assured-prince",
   "metadata": {},
   "outputs": [],
   "source": [
    "sparsity = X.count_nonzero()/(X.shape[0]*X.shape[1])\n",
    "\n",
    "print(f\"Matrix sparsity: {round(sparsity*100,2)}%\")"
   ]
  },
  {
   "cell_type": "markdown",
   "id": "acting-captain",
   "metadata": {},
   "source": [
    "## Finding similar movies using k-Nearest Neighbours\n",
    "\n",
    "This approach looks for the $k$ nearest neighbours of a given movie by identifying $k$ points in the dataset that are closest to movie $m$. kNN makes use of distance metrics such as:\n",
    "\n",
    "1. Cosine similarity\n",
    "2. Euclidean distance\n",
    "3. Manhattan distance\n",
    "4. Pearson correlation \n",
    "\n",
    "Although difficult to visualize, we are working in a M-dimensional space where M represents the number of movies in our X matrix. "
   ]
  },
  {
   "cell_type": "code",
   "execution_count": null,
   "id": "sonic-archive",
   "metadata": {},
   "outputs": [],
   "source": [
    "from sklearn.neighbors import NearestNeighbors\n",
    "kNN = NearestNeighbors(n_neighbors=500, algorithm=\"brute\", metric='cosine')\n",
    "kNN.fit(X)"
   ]
  },
  {
   "cell_type": "code",
   "execution_count": null,
   "id": "spoken-preserve",
   "metadata": {},
   "outputs": [],
   "source": [
    "# save the model to disk\n",
    "#filename = '../_model_/KNN.sav'\n",
    "#pickle.dump(kNN, open(filename, 'wb'))\n",
    "\n",
    "# read the model from disk\n",
    "#kNN = pickle.load(open('../_model_/KNN.sav', 'rb'))"
   ]
  },
  {
   "cell_type": "code",
   "execution_count": null,
   "id": "special-delight",
   "metadata": {},
   "outputs": [],
   "source": [
    "def find_similar_movies(movie_id, k, show_distance=False):\n",
    "    \"\"\"\n",
    "    Finds k-nearest neighbours for a given movie id.\n",
    "    \n",
    "    Args:\n",
    "        movie_id: id of the movie of interest\n",
    "        X: user-item utility matrix\n",
    "        k: number of similar movies to retrieve (por ahora solo va a devolver 5)\n",
    "        metric: distance metric for kNN calculations\n",
    "    \n",
    "    Returns:\n",
    "        list of k similar movie ID's\n",
    "    \"\"\"\n",
    "    neighbour_ids = []\n",
    "    \n",
    "    movie_ind = movie_mapper[movie_id]\n",
    "    movie_vec = X[movie_ind]\n",
    "    k+=1\n",
    "    \n",
    "    \n",
    "    if isinstance(movie_vec, (np.ndarray)):\n",
    "        movie_vec = movie_vec.reshape(1,-1)\n",
    "    \n",
    "    neighbour = kNN.kneighbors(movie_vec, return_distance=show_distance)\n",
    "    \n",
    "    i = 0\n",
    "    j = 0\n",
    "    while i < 5:\n",
    "        n = neighbour.item(j)\n",
    "        j = j + 1\n",
    "        if movie_inv_mapper[n][1] == 'F':\n",
    "            neighbour_ids.append(movie_inv_mapper[n])\n",
    "            i = i + 1\n",
    "        if j==k:\n",
    "            break\n",
    "            \n",
    "    neighbour_ids.pop(0)\n",
    "    return neighbour_ids"
   ]
  },
  {
   "cell_type": "code",
   "execution_count": null,
   "id": "southeast-birth",
   "metadata": {
    "scrolled": true
   },
   "outputs": [],
   "source": [
    "movie_titles = dict(zip(ratings['tconst_gender'], ratings['primaryTitle']))\n",
    "\n",
    "movie_id = ('tt1205489', 'M')\n",
    "\n",
    "similar_ids = find_similar_movies(movie_id, 500)\n",
    "\n",
    "movie_title = movie_titles[movie_id]\n",
    "\n",
    "print(f\"Because you watched {movie_title}\")\n",
    "for i in similar_ids:\n",
    "    print(movie_titles[i])"
   ]
  },
  {
   "cell_type": "markdown",
   "id": "seeing-verse",
   "metadata": {},
   "source": [
    "# Finding movies by genre"
   ]
  },
  {
   "cell_type": "code",
   "execution_count": null,
   "id": "aggregate-interaction",
   "metadata": {},
   "outputs": [],
   "source": [
    "ratings.head()"
   ]
  },
  {
   "cell_type": "code",
   "execution_count": null,
   "id": "removable-answer",
   "metadata": {},
   "outputs": [],
   "source": [
    "ratings_female = ratings.drop_duplicates('tconst')[ratings.gender == 'F'][['tconst','primaryTitle','primaryName','gender','genres']]"
   ]
  },
  {
   "cell_type": "code",
   "execution_count": null,
   "id": "passing-estonia",
   "metadata": {},
   "outputs": [],
   "source": [
    "ratings_female.info()"
   ]
  },
  {
   "cell_type": "code",
   "execution_count": null,
   "id": "original-powell",
   "metadata": {},
   "outputs": [],
   "source": [
    "ratings_female[ratings_female[\"genres\"].str.lower().str.contains(\"comedy\", regex=False, na=False)]"
   ]
  },
  {
   "cell_type": "code",
   "execution_count": null,
   "id": "imperial-oxygen",
   "metadata": {},
   "outputs": [],
   "source": [
    "split_female_genres_list = [x.split(',') for x in ratings_female.genres.tolist()]\n",
    "#flat list\n",
    "flate_female_genres_list = [item for sublist in split_female_genres_list for item in sublist]\n",
    "# to dataframe\n",
    "df_female_genres = pd.DataFrame({'genres':flate_female_genres_list})"
   ]
  },
  {
   "cell_type": "code",
   "execution_count": null,
   "id": "declared-fountain",
   "metadata": {},
   "outputs": [],
   "source": [
    "df_female_genres.drop_duplicates(inplace=True)"
   ]
  },
  {
   "cell_type": "code",
   "execution_count": null,
   "id": "extraordinary-solomon",
   "metadata": {},
   "outputs": [],
   "source": [
    "df_female_genres = df_female_genres.reset_index().drop('index',axis=1)"
   ]
  },
  {
   "cell_type": "code",
   "execution_count": null,
   "id": "lesbian-product",
   "metadata": {},
   "outputs": [],
   "source": [
    "df_female_genres"
   ]
  },
  {
   "cell_type": "code",
   "execution_count": null,
   "id": "southeast-bread",
   "metadata": {},
   "outputs": [],
   "source": [
    "def select_by_genre(data, genre):\n",
    "    return data[data[\"genres\"].str.lower().str.contains(genre, regex=False, na=False)]   "
   ]
  },
  {
   "cell_type": "code",
   "execution_count": null,
   "id": "korean-assessment",
   "metadata": {},
   "outputs": [],
   "source": [
    "sel_genre = select_by_genre(ratings_female, 'news')"
   ]
  },
  {
   "cell_type": "code",
   "execution_count": null,
   "id": "indirect-tower",
   "metadata": {},
   "outputs": [],
   "source": []
  }
 ],
 "metadata": {
  "kernelspec": {
   "display_name": "Python 3",
   "language": "python",
   "name": "python3"
  },
  "language_info": {
   "codemirror_mode": {
    "name": "ipython",
    "version": 3
   },
   "file_extension": ".py",
   "mimetype": "text/x-python",
   "name": "python",
   "nbconvert_exporter": "python",
   "pygments_lexer": "ipython3",
   "version": "3.7.9"
  },
  "toc": {
   "base_numbering": 1,
   "nav_menu": {},
   "number_sections": true,
   "sideBar": true,
   "skip_h1_title": false,
   "title_cell": "Table of Contents",
   "title_sidebar": "Contents",
   "toc_cell": false,
   "toc_position": {},
   "toc_section_display": true,
   "toc_window_display": false
  }
 },
 "nbformat": 4,
 "nbformat_minor": 5
}
