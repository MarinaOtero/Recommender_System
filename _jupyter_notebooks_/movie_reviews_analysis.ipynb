{
 "cells": [
  {
   "cell_type": "markdown",
   "id": "metropolitan-flush",
   "metadata": {},
   "source": [
    "# Sentiment analysis"
   ]
  },
  {
   "cell_type": "code",
   "execution_count": null,
   "id": "tribal-dialogue",
   "metadata": {},
   "outputs": [],
   "source": [
    "import pandas as pd\n",
    "import numpy as np\n",
    "\n",
    "import warnings\n",
    "warnings.filterwarnings(\"ignore\")"
   ]
  },
  {
   "cell_type": "code",
   "execution_count": null,
   "id": "previous-thanksgiving",
   "metadata": {},
   "outputs": [],
   "source": [
    "import os\n",
    "getcwd = os.getcwd()\n",
    "cwd = getcwd.rsplit('\\\\', 1)[0]+\"\\\\_functions_\""
   ]
  },
  {
   "cell_type": "code",
   "execution_count": null,
   "id": "fossil-radiation",
   "metadata": {},
   "outputs": [],
   "source": [
    "import sys\n",
    "sys.path.insert(0, cwd)\n",
    "\n",
    "from sentiment_analysis import *"
   ]
  },
  {
   "cell_type": "code",
   "execution_count": null,
   "id": "thick-water",
   "metadata": {},
   "outputs": [],
   "source": [
    "data = pd.read_csv('../clean_data/data_sentiment.csv')"
   ]
  },
  {
   "cell_type": "code",
   "execution_count": null,
   "id": "south-february",
   "metadata": {},
   "outputs": [],
   "source": [
    "data.head()"
   ]
  },
  {
   "cell_type": "code",
   "execution_count": null,
   "id": "searching-carrier",
   "metadata": {},
   "outputs": [],
   "source": [
    "data.tconst.nunique()"
   ]
  },
  {
   "cell_type": "code",
   "execution_count": null,
   "id": "single-welding",
   "metadata": {},
   "outputs": [],
   "source": [
    "data.username.nunique()"
   ]
  },
  {
   "cell_type": "code",
   "execution_count": null,
   "id": "animated-isaac",
   "metadata": {},
   "outputs": [],
   "source": [
    "data.info()"
   ]
  },
  {
   "cell_type": "code",
   "execution_count": null,
   "id": "developing-boating",
   "metadata": {},
   "outputs": [],
   "source": [
    "data.duplicated().sum()"
   ]
  },
  {
   "cell_type": "code",
   "execution_count": null,
   "id": "invalid-julian",
   "metadata": {},
   "outputs": [],
   "source": [
    "data.isnull().sum()"
   ]
  },
  {
   "cell_type": "code",
   "execution_count": null,
   "id": "brutal-gross",
   "metadata": {},
   "outputs": [],
   "source": [
    "data.gender.unique()"
   ]
  },
  {
   "cell_type": "markdown",
   "id": "african-australia",
   "metadata": {},
   "source": [
    "# Sentiment Analysis\n"
   ]
  },
  {
   "cell_type": "markdown",
   "id": "appreciated-origin",
   "metadata": {},
   "source": [
    "## Sentiment Analysis of Reviews"
   ]
  },
  {
   "cell_type": "code",
   "execution_count": null,
   "id": "spoken-accessory",
   "metadata": {},
   "outputs": [],
   "source": [
    "sent_analysis(data, 'male')"
   ]
  },
  {
   "cell_type": "code",
   "execution_count": null,
   "id": "arctic-shell",
   "metadata": {},
   "outputs": [],
   "source": [
    "sent_analysis(data, 'female')"
   ]
  },
  {
   "cell_type": "markdown",
   "id": "recent-dialogue",
   "metadata": {},
   "source": [
    "## Donut chart"
   ]
  },
  {
   "cell_type": "code",
   "execution_count": null,
   "id": "younger-walter",
   "metadata": {},
   "outputs": [],
   "source": [
    "# assign the data\n",
    "fig = donut_chart(data)"
   ]
  },
  {
   "cell_type": "code",
   "execution_count": null,
   "id": "modular-clause",
   "metadata": {},
   "outputs": [],
   "source": [
    "fig.show()"
   ]
  },
  {
   "cell_type": "markdown",
   "id": "weird-clock",
   "metadata": {},
   "source": [
    "## Length of text"
   ]
  },
  {
   "cell_type": "code",
   "execution_count": null,
   "id": "engaging-formation",
   "metadata": {},
   "outputs": [],
   "source": [
    "# male dataframe with POSITIVE comments\n",
    "df_pos_male = data.loc[(data.sentiment_compound >= 0.95)  & (data.gender=='M')]\n",
    "# only corpus of POSITIVE male comments\n",
    "pos_comments_male = df_pos_male['review'].tolist()\n",
    "# male dataframe with NEGATIVE comments\n",
    "df_neg_male = data.loc[(data.sentiment_compound < 0.0)  & (data.gender=='M')]\n",
    "# only corpus of NEGATIVE male comments\n",
    "neg_comments_male = df_neg_male['review'].tolist()\n",
    "df_pos_male['text_length'] = df_pos_male['review'].apply(len)\n",
    "df_neg_male['text_length'] = df_neg_male['review'].apply(len)\n",
    "    \n",
    "# female dataframe with POSITIVE comments\n",
    "df_pos_female = data.loc[(data.sentiment_compound >= 0.95)  & (data.gender=='F')]\n",
    "# only corpus of POSITIVE male comments\n",
    "pos_comments_female = df_pos_female['review'].tolist()\n",
    "# male dataframe with NEGATIVE comments\n",
    "df_neg_female = data.loc[(data.sentiment_compound < 0.0)  & (data.gender=='F')]\n",
    "# only corpus of NEGATIVE female comments\n",
    "neg_comments_female = df_neg_female['review'].tolist()\n",
    "df_pos_female['text_length'] = df_pos_female['review'].apply(len)\n",
    "df_neg_female['text_length'] = df_neg_female['review'].apply(len)"
   ]
  },
  {
   "cell_type": "code",
   "execution_count": null,
   "id": "limiting-shepherd",
   "metadata": {},
   "outputs": [],
   "source": [
    "length_text(df_pos_male,df_neg_male,df_pos_female,df_neg_female)"
   ]
  },
  {
   "cell_type": "code",
   "execution_count": null,
   "id": "killing-klein",
   "metadata": {},
   "outputs": [],
   "source": []
  }
 ],
 "metadata": {
  "kernelspec": {
   "display_name": "Python 3",
   "language": "python",
   "name": "python3"
  },
  "language_info": {
   "codemirror_mode": {
    "name": "ipython",
    "version": 3
   },
   "file_extension": ".py",
   "mimetype": "text/x-python",
   "name": "python",
   "nbconvert_exporter": "python",
   "pygments_lexer": "ipython3",
   "version": "3.7.9"
  },
  "toc": {
   "base_numbering": 1,
   "nav_menu": {},
   "number_sections": true,
   "sideBar": true,
   "skip_h1_title": false,
   "title_cell": "Table of Contents",
   "title_sidebar": "Contents",
   "toc_cell": false,
   "toc_position": {},
   "toc_section_display": true,
   "toc_window_display": false
  }
 },
 "nbformat": 4,
 "nbformat_minor": 5
}
